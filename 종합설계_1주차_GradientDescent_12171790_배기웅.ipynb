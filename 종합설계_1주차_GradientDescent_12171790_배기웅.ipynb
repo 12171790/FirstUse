{
 "cells": [
  {
   "cell_type": "code",
   "execution_count": null,
   "metadata": {},
   "outputs": [],
   "source": [
    "import numpy as np\n",
    "import matplotlib.pyplot as plt\n",
    "import math\n",
    "from matplotlib import cm\n",
    "from mpl_toolkits.mplot3d import Axes3D\n",
    "\n",
    "def gradient_descent(theta0, epoch, step_size):\n",
    "\thistory = [theta0] # to store all thetas\n",
    "\ttheta = theta0     # initial values for thetas\n",
    "\t# main loop by iterations:\n",
    "\tfor i in range(epoch):\n",
    "\t\t# gradient is [x1, x2]:\n",
    "\t\tgradient = [x for x in theta] #함수 Objective(x1,x2)의 미분\n",
    "\t\t# update parameters:\n",
    "\t\ttheta = [a - step_size*b for a,b in zip(theta, gradient)]\n",
    "\t\thistory.append(theta)\n",
    "\treturn history\n",
    "\n",
    "history = gradient_descent(theta0 = [-4, 3], epoch = 100, step_size = 0.1)\n",
    "\n",
    "# Objective(x1,x2) = x1^2 + x2^2 함수의 그래프 그리기\n",
    "fig = plt.figure(figsize=(20, 15))\n",
    "ax = fig.gca(projection='3d')\n",
    "#plt.hold(True)\n",
    "x1 = np.arange(-4, 4, 0.1)\n",
    "x2 = np.arange(-4, 4, 0.1)\n",
    "x1, x2 = np.meshgrid(x1, x2)\n",
    "O = x1**2 - x2**2\n",
    "surf = ax.plot_surface(x1, x2, O, rstride=1, cstride=1, alpha=0.2, \n",
    "\t\t linewidth=0, antialiased=False, cmap='inferno')\n",
    "\n",
    "x1 = np.array([x[0] for x in history])\n",
    "x2 = np.array([x[1] for x in history])\n",
    "O = x1**2 - x2**2\n",
    "ax.scatter(x1, x2, O, color=\"black\"); \n",
    "\n",
    "print(O)\n",
    "ax.view_init(15, 60)\n",
    "\n",
    "plt.show()"
   ]
  }
 ],
 "metadata": {
  "language_info": {
   "name": "python"
  }
 },
 "nbformat": 4,
 "nbformat_minor": 5
}
